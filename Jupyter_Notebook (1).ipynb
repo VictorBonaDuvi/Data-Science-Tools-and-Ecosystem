{
  "metadata": {
    "kernelspec": {
      "name": "python",
      "display_name": "Python (Pyodide)",
      "language": "python"
    },
    "language_info": {
      "codemirror_mode": {
        "name": "python",
        "version": 3
      },
      "file_extension": ".py",
      "mimetype": "text/x-python",
      "name": "python",
      "nbconvert_exporter": "python",
      "pygments_lexer": "ipython3",
      "version": "3.8"
    }
  },
  "nbformat_minor": 4,
  "nbformat": 4,
  "cells": [
    {
      "cell_type": "markdown",
      "source": "<center>\n    <img src=\"https://cf-courses-data.s3.us.cloud-object-storage.appdomain.cloud/IBMDeveloperSkillsNetwork-DS0105EN-SkillsNetwork/labs/Module2/images/SN_web_lightmode.png\" width=\"300\" alt=\"cognitiveclass.ai logo\">\n</center>\n",
      "metadata": {}
    },
    {
      "cell_type": "markdown",
      "source": "# Data Science Tools and Ecosystem",
      "metadata": {}
    },
    {
      "cell_type": "markdown",
      "source": "### *In this notebook, Data Science Tools and Ecosystem are summarized.*",
      "metadata": {}
    },
    {
      "cell_type": "markdown",
      "source": "#### This Notebook presents some of the key takeaways from the course.\n\n#### Objectives:\n* Know popular programming languages used by Data Scientists.\n* View commonly used libraries used by Data Scientist.\n* Browse tools and open source environments for program development used by Data Scientists.\n",
      "metadata": {}
    },
    {
      "cell_type": "markdown",
      "source": "#### Some of the popular languages that Data Scientists use are:\n1. Python.\n2. R programming language.\n3. SQL.\n4. Julia.\n5. Many more!",
      "metadata": {}
    },
    {
      "cell_type": "markdown",
      "source": "#### Some of the commonly used libraries used with Python by Data Scientists include:\n1. Pandas.\n2. Numpy.\n3. Matplotlib.\n4. Seaborn.\n5. Keras.\n6. Tensorflow.\n7. Many more!",
      "metadata": {}
    },
    {
      "cell_type": "markdown",
      "source": "#### Table 1: \n| **Data Science Tools** |\n|--------------------|\n| VS Code |\n| GitLab |\n| Supabase |",
      "metadata": {}
    },
    {
      "cell_type": "markdown",
      "source": "### Below are a few examples of evaluating arithmetic expressions in Python:",
      "metadata": {}
    },
    {
      "cell_type": "code",
      "source": "# This a simple arithmetic expression to multiply and then add integers:\n\nx = (3*4)+5\nx",
      "metadata": {
        "tags": []
      },
      "execution_count": 1,
      "outputs": [
        {
          "execution_count": 1,
          "output_type": "execute_result",
          "data": {
            "text/plain": [
              "17"
            ]
          },
          "metadata": {}
        }
      ]
    },
    {
      "cell_type": "code",
      "source": "# This will convert 200 minutes to hours by diving by 60:\nminutes = 200\nhours = minutes / 60\n\nprint(\"In 200 minutes, there are \", hours, \" hours\")",
      "metadata": {
        "tags": []
      },
      "execution_count": 3,
      "outputs": [
        {
          "name": "stdout",
          "output_type": "stream",
          "text": "In 200 minutes, there are  3.3333333333333335  hours\n"
        }
      ]
    },
    {
      "cell_type": "markdown",
      "source": "## Author:\nVíctor D. D.",
      "metadata": {}
    },
    {
      "cell_type": "code",
      "source": "",
      "metadata": {},
      "execution_count": null,
      "outputs": []
    }
  ]
}